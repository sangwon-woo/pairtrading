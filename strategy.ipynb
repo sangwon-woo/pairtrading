{
 "cells": [
  {
   "cell_type": "code",
   "execution_count": 64,
   "id": "cce36b90-0112-4145-afc3-a5cc1af01b07",
   "metadata": {},
   "outputs": [],
   "source": [
    "import os\n",
    "\n",
    "import pandas as pd\n",
    "import numpy as np\n",
    "import matplotlib as mpl\n",
    "import matplotlib.pyplot as plt\n",
    "import pyarrow.feather as feather\n",
    "import seaborn as sns\n",
    "import statsmodels.api as sm\n",
    "\n",
    "from statsmodels.tsa.stattools import adfuller, coint\n",
    "from scipy.optimize import minimize\n",
    "from datetime import datetime, timedelta\n",
    "from IPython.core.interactiveshell import InteractiveShell\n",
    "from matplotlib.ticker import ScalarFormatter\n",
    "\n",
    "InteractiveShell.ast_node_interactivity = 'all'\n",
    "\n",
    "import warnings\n",
    "warnings.filterwarnings('ignore')\n",
    "\n",
    "%matplotlib inline"
   ]
  },
  {
   "cell_type": "code",
   "execution_count": 26,
   "id": "6bc52f1b-fa87-4732-a612-09cab79abf6f",
   "metadata": {},
   "outputs": [],
   "source": [
    "pd.set_option('display.float_format', lambda x: '%.4f' % x)"
   ]
  },
  {
   "cell_type": "code",
   "execution_count": 52,
   "id": "facc2da0-3aed-429b-874c-4074ca750e44",
   "metadata": {},
   "outputs": [],
   "source": [
    "# price_df = feather.read_feather('data\\\\91_coin_price.feather')\n",
    "# volume_df = feather.read_feather('data\\\\91_coin_volume.feather')\n",
    "price_df = feather.read_feather('data/91_coin_price.feather')\n",
    "volume_df = feather.read_feather('data/91_coin_volume.feather')"
   ]
  },
  {
   "cell_type": "code",
   "execution_count": 53,
   "id": "ed0fdb64-f7b5-4287-9c75-f6ec0e3062b6",
   "metadata": {},
   "outputs": [],
   "source": [
    "n_cols = [i[4:] for i in price_df.columns]"
   ]
  },
  {
   "cell_type": "code",
   "execution_count": 54,
   "id": "9cf61c06-3c86-4e65-b146-816dd8ce8737",
   "metadata": {},
   "outputs": [],
   "source": [
    "price_df.columns = n_cols\n",
    "volume_df.columns = n_cols"
   ]
  },
  {
   "cell_type": "code",
   "execution_count": 55,
   "id": "692bb116-c65f-4833-899f-5e693f72c701",
   "metadata": {},
   "outputs": [
    {
     "data": {
      "text/plain": [
       "BTC    256368816880.2938\n",
       "XRP    192698847729.3659\n",
       "SOL    103584248437.9866\n",
       "DOGE    89645066275.3915\n",
       "ETC     73158465300.4561\n",
       "ETH     72852262016.9899\n",
       "STX     72208409286.3744\n",
       "APT     54552522490.7850\n",
       "BCH     47750598085.8158\n",
       "GAS     47377979549.3658\n",
       "dtype: float64"
      ]
     },
     "execution_count": 55,
     "metadata": {},
     "output_type": "execute_result"
    }
   ],
   "source": [
    "volume_df.sum().sort_values(ascending=False).head(10) / 513"
   ]
  },
  {
   "cell_type": "code",
   "execution_count": 56,
   "id": "63611bc0-0669-4fed-aa41-63deed3eeb92",
   "metadata": {},
   "outputs": [],
   "source": [
    "top6_volume_coins = ['BTC', 'XRP', 'SOL', 'DOGE', 'ETC', 'ETH']\n",
    "agg_dict = {col:'last' for col in price_df.columns}"
   ]
  },
  {
   "cell_type": "code",
   "execution_count": 57,
   "id": "1c14410d-c64a-4a32-915a-eb0ef55cf011",
   "metadata": {},
   "outputs": [],
   "source": [
    "price_df = price_df.resample('8H').agg(agg_dict)"
   ]
  },
  {
   "cell_type": "code",
   "execution_count": 58,
   "id": "0a87b056-05d6-4967-b525-b903ba244b35",
   "metadata": {},
   "outputs": [],
   "source": [
    "top6_df = price_df[top6_volume_coins]\n",
    "\n",
    "btc_price = price_df['BTC']\n",
    "xrp_price = price_df['XRP']\n",
    "sol_price = price_df['SOL']\n",
    "doge_price = price_df['DOGE']\n",
    "etc_price = price_df['ETC']\n",
    "eth_price = price_df['ETH']\n",
    "\n",
    "top6_list = [btc_price, xrp_price, sol_price, doge_price, etc_price, eth_price]"
   ]
  },
  {
   "cell_type": "code",
   "execution_count": 24,
   "id": "7e9f47a7-3104-4cb1-b346-65978451150a",
   "metadata": {},
   "outputs": [],
   "source": [
    "desc_stats_price = top6_df.describe()\n",
    "desc_stats_price.loc['skewness'] = top6_df.skew()\n",
    "desc_stats_price.loc['kurtosis'] = top6_df.kurtosis()"
   ]
  },
  {
   "cell_type": "code",
   "execution_count": 31,
   "id": "cd847935-0d37-43ff-ac85-4f29c7d35ecf",
   "metadata": {},
   "outputs": [],
   "source": [
    "# desc_stats_price.to_csv(\"desc_stats_price.csv\")"
   ]
  },
  {
   "cell_type": "code",
   "execution_count": 32,
   "id": "fa831a1a-affd-4862-99a4-6b03c29b7c32",
   "metadata": {},
   "outputs": [],
   "source": [
    "top6_return_df = top6_df.pct_change()\n",
    "desc_stats_return = top6_return_df.describe()\n",
    "desc_stats_return.loc['skewness'] = top6_return_df.skew()\n",
    "desc_stats_return.loc['kurtosis'] = top6_return_df.kurtosis()"
   ]
  },
  {
   "cell_type": "code",
   "execution_count": 34,
   "id": "d83be44d-43a0-4fb4-91b8-f8c68615d4b0",
   "metadata": {},
   "outputs": [],
   "source": [
    "# desc_stats_return.to_csv(\"desc_stats_return.csv\")"
   ]
  },
  {
   "cell_type": "code",
   "execution_count": 35,
   "id": "725f8dba-e3ce-4398-9abd-3e1a1ad84d9e",
   "metadata": {},
   "outputs": [],
   "source": [
    "# for price_df in top6_list:\n",
    "#     coin_name = price_df.columns[0]\n",
    "#     title_name = f'{coin_name} Price'\n",
    "#     plt.figure(figsize=(30, 10));\n",
    "#     plt.gca().yaxis.set_major_formatter(ScalarFormatter(useMathText=True))\n",
    "#     plt.ticklabel_format(style='plain', axis='y')\n",
    "#     plt.plot(price_df);\n",
    "#     plt.grid(True);\n",
    "#     plt.title(title_name,fontsize=30);\n",
    "#     plt.xlabel('Date', fontsize=25);\n",
    "#     plt.ylabel('Price', fontsize=25);\n",
    "#     plt.xticks(fontsize=20);\n",
    "#     plt.yticks(fontsize=20);\n",
    "#     plt.savefig(f'image/{title_name}.png', dpi=300)\n",
    "#     plt.clf();\n",
    "    "
   ]
  },
  {
   "cell_type": "code",
   "execution_count": 43,
   "id": "4b018c1d-d3ed-41b8-b171-4dd718852cb7",
   "metadata": {},
   "outputs": [],
   "source": [
    "mpl.rcParams['font.size'] = 16  # 기본 폰트 크기 설정\n",
    "mpl.rcParams['axes.titlesize'] = 20  # 제목 폰트 크기 설정\n",
    "mpl.rcParams['axes.labelsize'] = 18  # 축 레이블 폰트 크기 설정\n",
    "mpl.rcParams['xtick.labelsize'] = 14  # x축 눈금 폰트 크기 설정\n",
    "mpl.rcParams['ytick.labelsize'] = 14  # y축 눈금 폰트 크기 설정\n",
    "mpl.rcParams['legend.fontsize'] = 16  # 범례 폰트 크기 설정"
   ]
  },
  {
   "cell_type": "code",
   "execution_count": null,
   "id": "bcd11ca5-40b4-4485-bbae-8cf66b5b8c8d",
   "metadata": {},
   "outputs": [],
   "source": [
    "for price_ser in top6_list:\n",
    "    coin_name = price_ser.name\n",
    "    title_name = f'{coin_name} Return'\n",
    "    \n",
    "    plt.figure(figsize=(30, 10));\n",
    "    \n",
    "    plt.subplot(1,2,1);\n",
    "    # sns.set_context(\"notebook\", font_scale=5);\n",
    "    sns.histplot(price_ser.pct_change(),kde=True, bins=30);\n",
    "    \n",
    "    # plt.title(f'{coin_name} Difference', fontsize=30);\n",
    "    # plt.xlabel(fontsize=25);\n",
    "    # plt.ylabel(fontsize=25);\n",
    "    # plt.xticks(fontsize=20);\n",
    "    # plt.yticks(fontsize=20);\n",
    "    \n",
    "    plt.subplot(1,2,2);\n",
    "    plt.plot(price_ser.pct_change());\n",
    "    plt.title(f'{coin_name} Return');\n",
    "    plt.title(title_name);\n",
    "    plt.xlabel('Date');\n",
    "    plt.ylabel('Return');\n",
    "    plt.xticks(rotation=45);\n",
    "    plt.grid(True);\n",
    "    plt.tight_layout();\n",
    "    # plt.show()\n",
    "    plt.savefig(f'image/{title_name}.png', dpi=300)\n",
    "    plt.clf();\n",
    "    "
   ]
  },
  {
   "cell_type": "code",
   "execution_count": 59,
   "id": "5b4d9fb2-e1f5-4807-af5b-f074346c8774",
   "metadata": {},
   "outputs": [],
   "source": [
    "log_price_df = np.log(price_df)"
   ]
  },
  {
   "cell_type": "code",
   "execution_count": null,
   "id": "0e0c1d57-c75d-48c0-9d17-e4e1982d8218",
   "metadata": {},
   "outputs": [],
   "source": [
    "# cnt = 1\n",
    "\n",
    "# for rolling_df in log_price_df.rolling(window=252, step=21):\n",
    "#     if rolling_df.shape[0] < 252: continue\n",
    "#     s, e = rolling_df.index[0], rolling_df.index[-1]\n",
    "#     print(f'Rolling #{cnt}: {s}부터 {e}까지 시작', end=' ')\n",
    "    \n",
    "#     corr_df = rolling_df.corr()\n",
    "#     corr_df = corr_df.reset_index().melt(id_vars='index', value_vars=corr_df.columns)\n",
    "#     corr_df.columns =['coin1', 'coin2', 'corr']\n",
    "#     corr_df = corr_df[corr_df['corr']!=1].sort_values(by='corr', ascending=False).drop_duplicates(subset='corr')\n",
    "#     corr_df = corr_df.reset_index(drop=True)\n",
    "    \n",
    "#     adf_df = {\n",
    "#         \"ADF Test Statistic\": [],\n",
    "#         'p-value': [],\n",
    "#         'Half Life': []\n",
    "#     }\n",
    "    \n",
    "#     for pair in corr_df.values:\n",
    "#         coin1, coin2, _ = pair\n",
    "#         coin1_df = rolling_df[coin1]\n",
    "#         coin2_df = rolling_df[coin2]\n",
    "#         coin1_log_price = coin1_df.values\n",
    "#         coin2_log_price = coin2_df.values\n",
    "        \n",
    "#         # 선형 회귀 모델 적합\n",
    "#         X = coin1_log_price\n",
    "#         Y = coin2_log_price\n",
    "\n",
    "#         model = sm.OLS(Y, X).fit()\n",
    "#         beta = model.params\n",
    "#         ut = Y - (beta * X)\n",
    "        \n",
    "#         adf_res = adfuller(ut)\n",
    "#         model = sm.tsa.ARIMA(ut, order=(1,0,0)).fit()\n",
    "#         phi_hat = model.arparams[0]\n",
    "#         half_life = np.log(2) / np.log(1 / abs(phi_hat))\n",
    "        \n",
    "#         adf_df[\"ADF Test Statistic\"].append(adf_res[0])\n",
    "#         adf_df['p-value'].append(adf_res[1])\n",
    "#         adf_df['Half Life'].append(half_life)\n",
    "        \n",
    "#     adf_df = pd.DataFrame(adf_df)\n",
    "#     corr_df = pd.concat([corr_df, adf_df], axis=1)\n",
    "#     corr_df = corr_df.loc[corr_df['p-value'] < 0.02, :].reset_index(drop=True)\n",
    "#     corr_df['corr rank'] = corr_df['corr'].rank(ascending=False)\n",
    "#     corr_df['p-value rank'] = corr_df['p-value'].rank()\n",
    "#     corr_df['Half Life rank'] = corr_df['Half Life'].rank()\n",
    "#     corr_df['total rank'] = corr_df['corr rank'] + corr_df['p-value rank'] + corr_df['Half Life rank']\n",
    "#     corr_df = corr_df.sort_values(by='total rank').reset_index(drop=True)\n",
    "    \n",
    "#     print(f'최종 {corr_df.shape[0]}개 페어 남음')\n",
    "\n",
    "#     corr_df.to_csv(f'data/corr_{cnt}.csv', index=False)\n",
    "    \n",
    "#     del corr_df\n",
    "    \n",
    "#     cnt += 1\n",
    "\n"
   ]
  },
  {
   "cell_type": "code",
   "execution_count": 264,
   "id": "657d35ee-8b53-4005-869b-fe5ea79b8a00",
   "metadata": {},
   "outputs": [
    {
     "data": {
      "text/plain": [
       "Timestamp('2024-05-27 16:00:00')"
      ]
     },
     "execution_count": 264,
     "metadata": {},
     "output_type": "execute_result"
    }
   ],
   "source": []
  },
  {
   "cell_type": "code",
   "execution_count": 291,
   "id": "1d912a92-63a4-4030-9b4d-4733c42ca869",
   "metadata": {},
   "outputs": [],
   "source": [
    "top_n = 100\n",
    "\n",
    "rolling_num = 0\n",
    "\n",
    "total_return = np.zeros(56) # rolling 평균 성과\n",
    "total_std = np.zeros(56)\n",
    "\n",
    "for rolling_df in log_price_df.rolling(window=252, step=21):\n",
    "    \n",
    "    rolling_pair_return = np.zeros(top_n) # rolling 할 때 페어별 성과\n",
    "    # rolling_pair_n_open = np.zeros(top_n) # rolling 할 때 페어별 오픈 횟수\n",
    "    # rolling_pair_n_close = np.zeros(top_n) # rolling 할 때 페어별 클로즈 횟수\n",
    "    \n",
    "    if rolling_df.shape[0] < 252: continue\n",
    "        \n",
    "    trading_start = rolling_df.index[-1] + pd.Timedelta(hours=8)\n",
    "    trading_index = pd.date_range(start=trading_start, periods=126, freq='8H')\n",
    "    \n",
    "    last_time_index = log_price_df.index[-1]\n",
    "    if trading_index[-1] > last_time_index:\n",
    "        break\n",
    "    \n",
    "    \n",
    "    trading_df = log_price_df.loc[trading_index, :]\n",
    "\n",
    "    _dir = f'data/corr_{rolling_num+1}.csv'\n",
    "    top_df = pd.read_csv(_dir)\n",
    "    pair_names = top_df.loc[:top_n-1:][['coin1', 'coin2']]\n",
    "    pair_names = pair_names.values\n",
    "\n",
    "    # rolling_total_open = 0\n",
    "    \n",
    "    pair_index = 0\n",
    "    for c1, c2 in pair_names:\n",
    "        pair_ret = 0\n",
    "        \n",
    "        first_asset_name = c1\n",
    "        second_asset_name = c2\n",
    "        in_X = rolling_df[first_asset_name]\n",
    "        in_Y = rolling_df[second_asset_name]\n",
    "        out_X = trading_df[first_asset_name]\n",
    "        out_Y = trading_df[second_asset_name]\n",
    "\n",
    "        in_model = sm.OLS(in_X, in_Y).fit()\n",
    "        beta = in_model.params[0]\n",
    "\n",
    "        in_coint_price = in_X - (beta * in_Y)\n",
    "        out_coint_price = out_X - (beta * out_Y)\n",
    "\n",
    "        insample_sd = np.std(in_coint_price)\n",
    "        index = np.where(\n",
    "            np.abs(out_coint_price) > (2*insample_sd)\n",
    "        )[0]\n",
    "\n",
    "        if len(index) != 0:\n",
    "            # pair_open += 1\n",
    "            \n",
    "            pair_ind = out_coint_price[index[0]] < 0\n",
    "            \n",
    "            ind1 = int(pair_ind) - int(not pair_ind)\n",
    "            ind2 = int(not pair_ind) - int(pair_ind)\n",
    "            \n",
    "            W = np.array([\n",
    "                ind1 * (1 / out_X[index[0]]),\n",
    "                ind2 * (1 / out_Y[index[0]])\n",
    "            ])\n",
    "            \n",
    "            pair_port = np.dot(W, np.vstack([\n",
    "                out_X[index[0]:],\n",
    "                out_Y[index[0]:]\n",
    "            ]))\n",
    "            ind_sell = np.where(\n",
    "                out_coint_price[index[0]:] * out_coint_price[index[0]] <= 0\n",
    "            )[0]\n",
    "\n",
    "            if len(ind_sell) == 0:\n",
    "                pair_ret = pair_port[-1]\n",
    "            else:\n",
    "                pair_ret = pair_port[min(ind_sell[0] + 1, len(pair_port) - 1)]\n",
    "                # pair_n_sell += 1\n",
    "        else:\n",
    "            pair_ret = 0\n",
    "\n",
    "        rolling_pair_return[pair_index] = pair_ret * (1- 0.001) # 수수료 계산\n",
    "        pair_index += 1\n",
    "        \n",
    "    total_return[rolling_num] = np.mean(rolling_pair_return)\n",
    "    total_std[rolling_num] = np.std(rolling_pair_return)\n",
    "    rolling_num += 1"
   ]
  },
  {
   "cell_type": "code",
   "execution_count": 293,
   "id": "4daaf300-70e4-4eec-9089-a97c8929dbe3",
   "metadata": {},
   "outputs": [
    {
     "data": {
      "text/plain": [
       "0.02584871125828018"
      ]
     },
     "execution_count": 293,
     "metadata": {},
     "output_type": "execute_result"
    },
    {
     "data": {
      "text/plain": [
       "0.00028702258621809545"
      ]
     },
     "execution_count": 293,
     "metadata": {},
     "output_type": "execute_result"
    }
   ],
   "source": [
    "np.mean(total_return) / 42 * 365\n",
    "np.mean(total_std) / np.sqrt(42 * 365)"
   ]
  },
  {
   "cell_type": "code",
   "execution_count": null,
   "id": "67af3928-a07c-4108-a567-b6c7b8559ba6",
   "metadata": {},
   "outputs": [],
   "source": []
  },
  {
   "cell_type": "code",
   "execution_count": null,
   "id": "abd0ec58-7c9e-4632-bb90-dca275997051",
   "metadata": {},
   "outputs": [],
   "source": []
  },
  {
   "cell_type": "code",
   "execution_count": 248,
   "id": "e4a2261d-bad7-4f24-b7b3-103b4b34f17e",
   "metadata": {},
   "outputs": [
    {
     "data": {
      "text/plain": [
       "array([62])"
      ]
     },
     "execution_count": 248,
     "metadata": {},
     "output_type": "execute_result"
    }
   ],
   "source": [
    "ind_sell = np.where(out_coint_price[index[0]:] * out_coint_price[index[0]] <= 0)[0]\n",
    "ind_sell"
   ]
  },
  {
   "cell_type": "code",
   "execution_count": 254,
   "id": "5bc6de9e-9c83-4233-bed9-7b115d173403",
   "metadata": {},
   "outputs": [
    {
     "data": {
      "text/plain": [
       "63"
      ]
     },
     "execution_count": 254,
     "metadata": {},
     "output_type": "execute_result"
    },
    {
     "data": {
      "text/plain": [
       "0.018831896501140855"
      ]
     },
     "execution_count": 254,
     "metadata": {},
     "output_type": "execute_result"
    }
   ],
   "source": [
    "min(ind_sell[0]+1, len(pair_port)-1)\n",
    "pair_port[63]"
   ]
  },
  {
   "cell_type": "code",
   "execution_count": 231,
   "id": "867c6ed7-ef4b-4ffb-90af-000eb166b3ba",
   "metadata": {},
   "outputs": [
    {
     "data": {
      "text/plain": [
       "array([-3.28376092e-17, -5.39802210e-03, -3.43392863e-02, -1.70072083e-02,\n",
       "       -1.24721349e-02, -1.28995627e-02, -1.04205967e-02, -6.02263663e-03,\n",
       "        1.27840780e-03, -6.84153181e-03, -1.14559026e-02, -3.84998470e-02,\n",
       "       -3.77985784e-02, -2.99516053e-02, -2.99723903e-02, -3.02924510e-02,\n",
       "       -1.54156785e-02, -4.51206243e-04, -1.16904023e-03, -1.95898542e-03,\n",
       "       -4.09218931e-03, -4.27110204e-03, -1.83312358e-03,  1.89722210e-03,\n",
       "        3.96192835e-03,  3.50427041e-03,  2.96798174e-03, -5.39201192e-03,\n",
       "       -4.95414807e-03,  1.59168281e-03,  4.41149417e-03,  8.23022730e-04,\n",
       "        1.92713910e-03,  1.02764493e-03,  3.34883025e-04,  7.17606123e-03,\n",
       "        3.02727494e-03,  5.34480297e-03,  2.76471289e-03,  3.02727494e-03,\n",
       "        4.19703231e-03, -6.43083134e-03, -2.39900362e-03, -4.44819382e-03,\n",
       "       -2.77619430e-03, -4.09218931e-03, -3.39942741e-03, -7.12359325e-03,\n",
       "       -9.56005424e-03, -7.44885946e-03, -6.52649996e-03, -2.58857157e-03,\n",
       "       -1.83312358e-03, -3.32766376e-03, -5.48189042e-03, -6.07650110e-03,\n",
       "       -4.01514747e-03, -2.78657462e-03, -6.76187499e-03,  6.67612171e-04,\n",
       "        1.44116091e-02,  1.46199307e-02,  3.48603040e-02,  1.88318965e-02,\n",
       "        1.30933048e-02,  1.38060501e-03,  1.66743868e-03,  1.97524023e-03,\n",
       "        2.55916476e-04,  4.00286293e-04,  4.38019487e-04, -2.14334882e-03,\n",
       "       -1.92648404e-03, -2.41878281e-03, -3.17349630e-03, -8.04128496e-04,\n",
       "       -2.77943716e-03, -2.84440271e-03, -5.27873353e-03, -2.14334882e-03,\n",
       "       -5.82531969e-03, -6.78614332e-03, -6.21217130e-03, -6.78614332e-03,\n",
       "       -2.63279780e-03, -4.01719604e-03, -3.32963835e-03, -3.05363500e-03,\n",
       "       -2.02593187e-03, -2.84440271e-03, -2.84440271e-03, -8.89415555e-04,\n",
       "       -1.98336871e-03, -5.19267856e-03, -1.08188100e-03, -6.15134263e-04,\n",
       "        4.53117481e-04, -2.12020812e-05,  1.78116489e-04, -1.37245558e-04,\n",
       "       -2.09752673e-03,  2.55323881e-03,  1.77704727e-03,  4.35098511e-03,\n",
       "        6.15168489e-03,  2.56991245e-03,  2.06436796e-03,  2.81598663e-03,\n",
       "        5.41396833e-03,  4.08991367e-03,  3.82612093e-03])"
      ]
     },
     "execution_count": 231,
     "metadata": {},
     "output_type": "execute_result"
    }
   ],
   "source": []
  },
  {
   "cell_type": "code",
   "execution_count": null,
   "id": "89aa523f-f0a3-4bc9-85b9-e5879985011c",
   "metadata": {},
   "outputs": [],
   "source": [
    "ind_sell = \n"
   ]
  },
  {
   "cell_type": "code",
   "execution_count": 228,
   "id": "232093f0-a7f3-4596-9473-435c8fe2b664",
   "metadata": {},
   "outputs": [
    {
     "data": {
      "text/plain": [
       "[<matplotlib.lines.Line2D at 0x37b8c7e00>]"
      ]
     },
     "execution_count": 228,
     "metadata": {},
     "output_type": "execute_result"
    },
    {
     "data": {
      "text/plain": [
       "Text(0.5, 1.0, 'Pair Returns (Window 1)')"
      ]
     },
     "execution_count": 228,
     "metadata": {},
     "output_type": "execute_result"
    },
    {
     "data": {
      "text/plain": [
       "<matplotlib.lines.Line2D at 0x3799b8ec0>"
      ]
     },
     "execution_count": 228,
     "metadata": {},
     "output_type": "execute_result"
    },
    {
     "data": {
      "image/png": "[encoded data removed]",
      "text/plain": [
       "<Figure size 640x480 with 1 Axes>"
      ]
     },
     "metadata": {},
     "output_type": "display_data"
    }
   ],
   "source": [
    "plt.plot(pair_port)\n",
    "plt.title(f'Pair Returns (Window {rolling_num})')\n",
    "plt.axhline(y=0, color='blue', linestyle='--')\n",
    "plt.grid(True)"
   ]
  },
  {
   "cell_type": "code",
   "execution_count": 222,
   "id": "95a8488d-7d55-4e17-9fc7-0dd676027580",
   "metadata": {},
   "outputs": [
    {
     "data": {
      "text/plain": [
       "-1.0"
      ]
     },
     "execution_count": 222,
     "metadata": {},
     "output_type": "execute_result"
    }
   ],
   "source": [
    "(-1/out_X[15]) * (out_X[15])\n"
   ]
  },
  {
   "cell_type": "code",
   "execution_count": null,
   "id": "64144d12-e644-443b-b72d-3668d25cf033",
   "metadata": {},
   "outputs": [],
   "source": []
  },
  {
   "cell_type": "code",
   "execution_count": null,
   "id": "1ef14133-31e3-4a65-a6bd-7b246d947e7f",
   "metadata": {},
   "outputs": [],
   "source": []
  },
  {
   "cell_type": "code",
   "execution_count": null,
   "id": "efc75b2b-33ac-4d54-af09-e973ce27137e",
   "metadata": {},
   "outputs": [],
   "source": []
  },
  {
   "cell_type": "code",
   "execution_count": null,
   "id": "34ed0ccf-b6aa-4163-b0f6-e822bec9d20d",
   "metadata": {},
   "outputs": [],
   "source": []
  },
  {
   "cell_type": "code",
   "execution_count": null,
   "id": "104ff3ea-1655-4943-aa28-7b093c934717",
   "metadata": {},
   "outputs": [],
   "source": []
  },
  {
   "cell_type": "code",
   "execution_count": null,
   "id": "0ce2b141-c8c0-4cb1-86be-742d36723ebf",
   "metadata": {},
   "outputs": [],
   "source": []
  },
  {
   "cell_type": "code",
   "execution_count": null,
   "id": "9269ee8f-7285-4e00-a733-ce3c552cd060",
   "metadata": {},
   "outputs": [],
   "source": []
  },
  {
   "cell_type": "code",
   "execution_count": null,
   "id": "03aab88b-a81c-44c7-8902-22471452da46",
   "metadata": {},
   "outputs": [],
   "source": []
  },
  {
   "cell_type": "code",
   "execution_count": null,
   "id": "66074b14-6768-42e9-80b8-967edb05fc1b",
   "metadata": {},
   "outputs": [],
   "source": []
  },
  {
   "cell_type": "code",
   "execution_count": null,
   "id": "7cfe8acd-abce-4f11-bc2f-4c4eed3519b1",
   "metadata": {},
   "outputs": [],
   "source": []
  },
  {
   "cell_type": "code",
   "execution_count": null,
   "id": "a5dbb8d2-dd28-435f-814c-c836f4062898",
   "metadata": {},
   "outputs": [],
   "source": []
  },
  {
   "cell_type": "code",
   "execution_count": null,
   "id": "e4bbad6b-1698-40ca-8b2c-ea6ed096aee8",
   "metadata": {},
   "outputs": [],
   "source": []
  },
  {
   "cell_type": "code",
   "execution_count": null,
   "id": "2d25701b-8f4f-4300-bde8-f6b792d3aea5",
   "metadata": {},
   "outputs": [],
   "source": []
  },
  {
   "cell_type": "code",
   "execution_count": null,
   "id": "b4312595-521e-4c1f-9fac-59134a7fccbf",
   "metadata": {},
   "outputs": [],
   "source": []
  },
  {
   "cell_type": "code",
   "execution_count": null,
   "id": "b3613fe2-99c4-428c-afea-e19f5836b3b6",
   "metadata": {},
   "outputs": [],
   "source": []
  },
  {
   "cell_type": "code",
   "execution_count": null,
   "id": "bd3e7579-43ff-43cc-83a0-b0f8228ae131",
   "metadata": {},
   "outputs": [],
   "source": []
  },
  {
   "cell_type": "code",
   "execution_count": null,
   "id": "3b0082ab-42ac-490f-9f9a-7388d59a26dd",
   "metadata": {},
   "outputs": [],
   "source": []
  },
  {
   "cell_type": "code",
   "execution_count": null,
   "id": "9d8b28e7-8eb8-42e7-9273-cc2564c933c2",
   "metadata": {},
   "outputs": [],
   "source": []
  },
  {
   "cell_type": "code",
   "execution_count": null,
   "id": "300e01e0-ff5c-4dd4-bdfe-6f19c4f99235",
   "metadata": {},
   "outputs": [],
   "source": []
  },
  {
   "cell_type": "code",
   "execution_count": null,
   "id": "3cd5d908-76ac-4901-9868-c59037a575d0",
   "metadata": {},
   "outputs": [],
   "source": []
  },
  {
   "cell_type": "code",
   "execution_count": null,
   "id": "2b08014c-8d2a-417c-81ad-0488767d17ab",
   "metadata": {},
   "outputs": [],
   "source": []
  },
  {
   "cell_type": "code",
   "execution_count": null,
   "id": "d00e2f7c-5293-437f-aa3b-d24e38be4fd0",
   "metadata": {},
   "outputs": [],
   "source": []
  },
  {
   "cell_type": "code",
   "execution_count": null,
   "id": "ad22d6db-7ea1-4343-ab16-14901ced0652",
   "metadata": {},
   "outputs": [],
   "source": []
  },
  {
   "cell_type": "code",
   "execution_count": null,
   "id": "d89e5231-613d-424c-99bb-ee753404710f",
   "metadata": {},
   "outputs": [],
   "source": []
  },
  {
   "cell_type": "code",
   "execution_count": null,
   "id": "2f1d6461-2071-4da1-8884-33c2eabb69f9",
   "metadata": {},
   "outputs": [],
   "source": []
  },
  {
   "cell_type": "code",
   "execution_count": null,
   "id": "9331d139-c809-4174-ab4f-d88702fc7764",
   "metadata": {},
   "outputs": [],
   "source": []
  },
  {
   "cell_type": "code",
   "execution_count": null,
   "id": "a7ba2d9f-a3a6-4083-8874-25d48bb5c029",
   "metadata": {},
   "outputs": [],
   "source": []
  },
  {
   "cell_type": "code",
   "execution_count": null,
   "id": "1899be1f-2217-4bc3-9eaa-37a16650e3cc",
   "metadata": {},
   "outputs": [],
   "source": []
  },
  {
   "cell_type": "code",
   "execution_count": null,
   "id": "b4c518db-e4dc-4033-8aca-96630ba17799",
   "metadata": {},
   "outputs": [],
   "source": []
  },
  {
   "cell_type": "code",
   "execution_count": null,
   "id": "4f46d05c-2f10-43bf-ac8d-24befea7abdf",
   "metadata": {},
   "outputs": [],
   "source": []
  },
  {
   "cell_type": "code",
   "execution_count": null,
   "id": "92832ef8-169e-491f-a18b-91e01cc636cf",
   "metadata": {},
   "outputs": [],
   "source": []
  },
  {
   "cell_type": "code",
   "execution_count": null,
   "id": "d3746735-af70-4cbb-b5b8-f298e95206b6",
   "metadata": {},
   "outputs": [],
   "source": []
  },
  {
   "cell_type": "code",
   "execution_count": null,
   "id": "bb74f004-fffc-4df8-a0e9-112ab36c7798",
   "metadata": {},
   "outputs": [],
   "source": []
  },
  {
   "cell_type": "code",
   "execution_count": null,
   "id": "ba65d2a1-65c2-4175-a3b9-1d31f9739d39",
   "metadata": {},
   "outputs": [],
   "source": []
  },
  {
   "cell_type": "code",
   "execution_count": null,
   "id": "3c46f365-2e77-4a11-9e19-ee381cfb7961",
   "metadata": {},
   "outputs": [],
   "source": []
  }
 ],
 "metadata": {
  "kernelspec": {
   "display_name": "Python 3 (ipykernel)",
   "language": "python",
   "name": "python3"
  },
  "language_info": {
   "codemirror_mode": {
    "name": "ipython",
    "version": 3
   },
   "file_extension": ".py",
   "mimetype": "text/x-python",
   "name": "python",
   "nbconvert_exporter": "python",
   "pygments_lexer": "ipython3",
   "version": "3.12.3"
  }
 },
 "nbformat": 4,
 "nbformat_minor": 5
}
